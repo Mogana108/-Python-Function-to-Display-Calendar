{
  "nbformat": 4,
  "nbformat_minor": 0,
  "metadata": {
    "colab": {
      "name": "Untitled23.ipynb",
      "provenance": []
    },
    "kernelspec": {
      "name": "python3",
      "display_name": "Python 3"
    },
    "language_info": {
      "name": "python"
    }
  },
  "cells": [
    {
      "cell_type": "code",
      "execution_count": null,
      "metadata": {
        "id": "e6W2_p76hNGC"
      },
      "outputs": [],
      "source": [
        "# First import the calendar module  \n",
        "import calendar  \n",
        "# ask of month and year  \n",
        "yy = int(input(\"Enter year: \"))  \n",
        "mm = int(input(\"Enter month: \"))  \n",
        "# display the calendar  \n",
        "print(calendar.month(yy,mm))  "
      ]
    }
  ]
}